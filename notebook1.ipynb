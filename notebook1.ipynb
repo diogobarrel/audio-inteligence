{
 "metadata": {
  "language_info": {
   "codemirror_mode": {
    "name": "ipython",
    "version": 3
   },
   "file_extension": ".py",
   "mimetype": "text/x-python",
   "name": "python",
   "nbconvert_exporter": "python",
   "pygments_lexer": "ipython3",
   "version": "3.9.2"
  },
  "orig_nbformat": 2,
  "kernelspec": {
   "name": "pythonjvsc74a57bd0564e5185471471b92d35b83506b475125fef328797bbed891f6836625675b4fd",
   "display_name": "Python 3.9.2  ('venv': venv)"
  },
  "metadata": {
   "interpreter": {
    "hash": "564e5185471471b92d35b83506b475125fef328797bbed891f6836625675b4fd"
   }
  }
 },
 "nbformat": 4,
 "nbformat_minor": 2,
 "cells": [
  {
   "cell_type": "code",
   "execution_count": null,
   "metadata": {},
   "outputs": [],
   "source": []
  }
 ]
}